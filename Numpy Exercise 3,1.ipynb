{
 "cells": [
  {
   "cell_type": "code",
   "execution_count": 59,
   "id": "f885bce6",
   "metadata": {},
   "outputs": [],
   "source": [
    "#Numpy Ecercise"
   ]
  },
  {
   "cell_type": "markdown",
   "id": "a517671d",
   "metadata": {},
   "source": [
    " Import numpy and see the version "
   ]
  },
  {
   "cell_type": "code",
   "execution_count": null,
   "id": "5681fa12",
   "metadata": {},
   "outputs": [],
   "source": []
  },
  {
   "cell_type": "code",
   "execution_count": 1,
   "id": "1c5a7e74",
   "metadata": {},
   "outputs": [],
   "source": [
    "import numpy as np"
   ]
  },
  {
   "cell_type": "code",
   "execution_count": 5,
   "id": "f740e53b",
   "metadata": {},
   "outputs": [
    {
     "name": "stdout",
     "output_type": "stream",
     "text": [
      "1.21.5\n",
      "blas_mkl_info:\n",
      "    libraries = ['mkl_rt']\n",
      "    library_dirs = ['C:/Users/shriv/anaconda3\\\\Library\\\\lib']\n",
      "    define_macros = [('SCIPY_MKL_H', None), ('HAVE_CBLAS', None)]\n",
      "    include_dirs = ['C:/Users/shriv/anaconda3\\\\Library\\\\include']\n",
      "blas_opt_info:\n",
      "    libraries = ['mkl_rt']\n",
      "    library_dirs = ['C:/Users/shriv/anaconda3\\\\Library\\\\lib']\n",
      "    define_macros = [('SCIPY_MKL_H', None), ('HAVE_CBLAS', None)]\n",
      "    include_dirs = ['C:/Users/shriv/anaconda3\\\\Library\\\\include']\n",
      "lapack_mkl_info:\n",
      "    libraries = ['mkl_rt']\n",
      "    library_dirs = ['C:/Users/shriv/anaconda3\\\\Library\\\\lib']\n",
      "    define_macros = [('SCIPY_MKL_H', None), ('HAVE_CBLAS', None)]\n",
      "    include_dirs = ['C:/Users/shriv/anaconda3\\\\Library\\\\include']\n",
      "lapack_opt_info:\n",
      "    libraries = ['mkl_rt']\n",
      "    library_dirs = ['C:/Users/shriv/anaconda3\\\\Library\\\\lib']\n",
      "    define_macros = [('SCIPY_MKL_H', None), ('HAVE_CBLAS', None)]\n",
      "    include_dirs = ['C:/Users/shriv/anaconda3\\\\Library\\\\include']\n",
      "Supported SIMD extensions in this NumPy install:\n",
      "    baseline = SSE,SSE2,SSE3\n",
      "    found = SSSE3,SSE41,POPCNT,SSE42,AVX,F16C,FMA3,AVX2\n",
      "    not found = AVX512F,AVX512CD,AVX512_SKX,AVX512_CLX,AVX512_CNL\n"
     ]
    }
   ],
   "source": [
    "print(np.__version__)\n",
    "np.show_config()"
   ]
  },
  {
   "cell_type": "markdown",
   "id": "945e788d",
   "metadata": {},
   "source": [
    "Create a 1d array of numbers from 0 to 9"
   ]
  },
  {
   "cell_type": "code",
   "execution_count": 9,
   "id": "a057268c",
   "metadata": {},
   "outputs": [
    {
     "data": {
      "text/plain": [
       "array([0, 1, 2, 3, 4, 5, 6, 7, 8, 9])"
      ]
     },
     "execution_count": 9,
     "metadata": {},
     "output_type": "execute_result"
    }
   ],
   "source": [
    "np.array([0,1,2,3,4,5,6,7,8,9])"
   ]
  },
  {
   "cell_type": "markdown",
   "id": "b102db5e",
   "metadata": {},
   "source": [
    "create a 3X3 numpy array of all True's"
   ]
  },
  {
   "cell_type": "code",
   "execution_count": 19,
   "id": "30ecd706",
   "metadata": {},
   "outputs": [],
   "source": [
    "s=np.full((3,3),True,dtype=bool)"
   ]
  },
  {
   "cell_type": "code",
   "execution_count": 20,
   "id": "7d6c1b44",
   "metadata": {},
   "outputs": [
    {
     "data": {
      "text/plain": [
       "array([[ True,  True,  True],\n",
       "       [ True,  True,  True],\n",
       "       [ True,  True,  True]])"
      ]
     },
     "execution_count": 20,
     "metadata": {},
     "output_type": "execute_result"
    }
   ],
   "source": [
    "s"
   ]
  },
  {
   "cell_type": "markdown",
   "id": "77838869",
   "metadata": {},
   "source": [
    "Extract all odd numbers from array "
   ]
  },
  {
   "cell_type": "code",
   "execution_count": 23,
   "id": "c476dd54",
   "metadata": {},
   "outputs": [
    {
     "data": {
      "text/plain": [
       "array([1, 3, 5, 7, 9])"
      ]
     },
     "execution_count": 23,
     "metadata": {},
     "output_type": "execute_result"
    }
   ],
   "source": [
    "a=np.arange(11)\n",
    "a=a[a%2==1]\n",
    "a"
   ]
  },
  {
   "cell_type": "markdown",
   "id": "66b45876",
   "metadata": {},
   "source": [
    "Replace all odd numbers with -1"
   ]
  },
  {
   "cell_type": "code",
   "execution_count": 24,
   "id": "af108aec",
   "metadata": {},
   "outputs": [
    {
     "name": "stdout",
     "output_type": "stream",
     "text": [
      "[ 0 -1  2 -1  4 -1  6 -1  8 -1 10]\n"
     ]
    }
   ],
   "source": [
    "a=np.arange(11)\n",
    "a[a%2==1]=-1\n",
    "print(a)"
   ]
  },
  {
   "cell_type": "markdown",
   "id": "52445610",
   "metadata": {},
   "source": [
    "Replace all odd number in a with -1 without changing a"
   ]
  },
  {
   "cell_type": "code",
   "execution_count": 30,
   "id": "bad91fb8",
   "metadata": {},
   "outputs": [],
   "source": [
    "arr=np.arange(11)"
   ]
  },
  {
   "cell_type": "code",
   "execution_count": 31,
   "id": "a15a3b6e",
   "metadata": {},
   "outputs": [
    {
     "data": {
      "text/plain": [
       "array([ 0, -1,  2, -1,  4, -1,  6, -1,  8, -1, 10])"
      ]
     },
     "execution_count": 31,
     "metadata": {},
     "output_type": "execute_result"
    }
   ],
   "source": [
    "np.where(arr%2==1,-1,arr)"
   ]
  },
  {
   "cell_type": "markdown",
   "id": "6cb1c8d1",
   "metadata": {},
   "source": [
    "How to stack array a and b vertically"
   ]
  },
  {
   "cell_type": "code",
   "execution_count": 35,
   "id": "b106c9af",
   "metadata": {},
   "outputs": [
    {
     "name": "stdout",
     "output_type": "stream",
     "text": [
      "[1 2 3 4 5 6 7 8 9]\n",
      "[9 8 7 6 5 4 3 2 1]\n"
     ]
    }
   ],
   "source": [
    "a=np.array([1,2,3,4,5,6,7,8,9])\n",
    "print(a)\n",
    "b=np.array([9,8,7,6,5,4,3,2,1,])\n",
    "print(b)"
   ]
  },
  {
   "cell_type": "code",
   "execution_count": 41,
   "id": "88a1f823",
   "metadata": {},
   "outputs": [
    {
     "data": {
      "text/plain": [
       "array([[1, 2, 3, 4, 5, 6, 7, 8, 9],\n",
       "       [9, 8, 7, 6, 5, 4, 3, 2, 1]])"
      ]
     },
     "execution_count": 41,
     "metadata": {},
     "output_type": "execute_result"
    }
   ],
   "source": [
    "np.vstack([a,b])"
   ]
  },
  {
   "cell_type": "markdown",
   "id": "be248ef8",
   "metadata": {},
   "source": [
    "How to stack array a and b Horizontally"
   ]
  },
  {
   "cell_type": "code",
   "execution_count": 38,
   "id": "70d3f355",
   "metadata": {},
   "outputs": [
    {
     "name": "stdout",
     "output_type": "stream",
     "text": [
      "[1 2 3 4 5 6 7 8 9]\n",
      "[9 8 7 6 5 4 3 2 1]\n"
     ]
    }
   ],
   "source": [
    "a=np.array([1,2,3,4,5,6,7,8,9])\n",
    "print(a)\n",
    "b=np.array([9,8,7,6,5,4,3,2,1,])\n",
    "print(b)"
   ]
  },
  {
   "cell_type": "code",
   "execution_count": 43,
   "id": "d53ac09c",
   "metadata": {},
   "outputs": [
    {
     "data": {
      "text/plain": [
       "array([1, 2, 3, 4, 5, 6, 7, 8, 9, 9, 8, 7, 6, 5, 4, 3, 2, 1])"
      ]
     },
     "execution_count": 43,
     "metadata": {},
     "output_type": "execute_result"
    }
   ],
   "source": [
    "np.hstack([a,b])"
   ]
  },
  {
   "cell_type": "markdown",
   "id": "f88864cf",
   "metadata": {},
   "source": [
    "How to concatenate array a and b"
   ]
  },
  {
   "cell_type": "code",
   "execution_count": 44,
   "id": "7965e8a2",
   "metadata": {},
   "outputs": [
    {
     "name": "stdout",
     "output_type": "stream",
     "text": [
      "[1 2 3 4 5 6 7 8 9]\n",
      "[9 8 7 6 5 4 3 2 1]\n"
     ]
    }
   ],
   "source": [
    "a=np.array([1,2,3,4,5,6,7,8,9])\n",
    "print(a)\n",
    "b=np.array([9,8,7,6,5,4,3,2,1,])\n",
    "print(b)"
   ]
  },
  {
   "cell_type": "code",
   "execution_count": 46,
   "id": "94e1a867",
   "metadata": {},
   "outputs": [
    {
     "data": {
      "text/plain": [
       "array([1, 2, 3, 4, 5, 6, 7, 8, 9, 9, 8, 7, 6, 5, 4, 3, 2, 1])"
      ]
     },
     "execution_count": 46,
     "metadata": {},
     "output_type": "execute_result"
    }
   ],
   "source": [
    "np.concatenate([a,b])"
   ]
  },
  {
   "cell_type": "markdown",
   "id": "90fe270e",
   "metadata": {},
   "source": [
    "Create the following pattern without hardcoding .use only numpy function in the below input array a\n"
   ]
  },
  {
   "cell_type": "code",
   "execution_count": 58,
   "id": "1f07ee91",
   "metadata": {},
   "outputs": [
    {
     "data": {
      "text/plain": [
       "array([1, 1, 1, 2, 2, 2, 3, 3, 3, 1, 2, 3, 1, 2, 3, 1, 2, 3])"
      ]
     },
     "execution_count": 58,
     "metadata": {},
     "output_type": "execute_result"
    }
   ],
   "source": [
    "#array(1,1,1,2,2,2,3,3,3,1,2,3,1,2,3)\n",
    "a=np.array([1,2,3])\n",
    "np.r_[np.repeat(a,3),np.tile(a,3)]"
   ]
  },
  {
   "cell_type": "code",
   "execution_count": null,
   "id": "cf2f1648",
   "metadata": {},
   "outputs": [],
   "source": []
  },
  {
   "cell_type": "markdown",
   "id": "e39ee341",
   "metadata": {},
   "source": [
    "Get The Commons items in a and b array"
   ]
  },
  {
   "cell_type": "code",
   "execution_count": 68,
   "id": "571f9813",
   "metadata": {},
   "outputs": [
    {
     "name": "stdout",
     "output_type": "stream",
     "text": [
      "[1 2 3 4 5 6 7 8 9]\n",
      "[3 6 7 6 5 8 0 2 1]\n"
     ]
    }
   ],
   "source": [
    "a=np.array([1,2,3,4,5,6,7,8,9])\n",
    "print(a)\n",
    "b=np.array([3,6,7,6,5,8,0,2,1,])\n",
    "print(b)"
   ]
  },
  {
   "cell_type": "code",
   "execution_count": 69,
   "id": "f556cbd2",
   "metadata": {},
   "outputs": [
    {
     "data": {
      "text/plain": [
       "array([1, 2, 3, 5, 6, 7, 8])"
      ]
     },
     "execution_count": 69,
     "metadata": {},
     "output_type": "execute_result"
    }
   ],
   "source": [
    "np.intersect1d(a,b)"
   ]
  },
  {
   "cell_type": "markdown",
   "id": "a8def414",
   "metadata": {},
   "source": [
    "Remove common array from a and b"
   ]
  },
  {
   "cell_type": "code",
   "execution_count": 70,
   "id": "8bdcbd87",
   "metadata": {},
   "outputs": [
    {
     "name": "stdout",
     "output_type": "stream",
     "text": [
      "[1 2 3 4 5 6 7 8 9]\n",
      "[3 6 7 6 5 8 0 2 1]\n"
     ]
    }
   ],
   "source": [
    "a=np.array([1,2,3,4,5,6,7,8,9])\n",
    "print(a)\n",
    "b=np.array([3,6,7,6,5,8,0,2,1,])\n",
    "print(b)"
   ]
  },
  {
   "cell_type": "code",
   "execution_count": 71,
   "id": "42c29820",
   "metadata": {},
   "outputs": [
    {
     "data": {
      "text/plain": [
       "array([4, 9])"
      ]
     },
     "execution_count": 71,
     "metadata": {},
     "output_type": "execute_result"
    }
   ],
   "source": [
    "np.setdiff1d(a,b)"
   ]
  },
  {
   "cell_type": "markdown",
   "id": "af31e3cf",
   "metadata": {},
   "source": [
    "Get The position where a,b element match"
   ]
  },
  {
   "cell_type": "code",
   "execution_count": 72,
   "id": "31146d88",
   "metadata": {},
   "outputs": [
    {
     "name": "stdout",
     "output_type": "stream",
     "text": [
      "[1 4 5 6 9 7 6]\n",
      "[1 4 6 4 9 5 6]\n"
     ]
    }
   ],
   "source": [
    "a=np.array([1,4,5,6,9,7,6])\n",
    "b=np.array([1,4,6,4,9,5,6])\n",
    "\n",
    "print(a)\n",
    "print(b)"
   ]
  },
  {
   "cell_type": "code",
   "execution_count": 73,
   "id": "852ac504",
   "metadata": {},
   "outputs": [
    {
     "data": {
      "text/plain": [
       "(array([0, 1, 4, 6], dtype=int64),)"
      ]
     },
     "execution_count": 73,
     "metadata": {},
     "output_type": "execute_result"
    }
   ],
   "source": [
    "np.where(a==b)"
   ]
  },
  {
   "cell_type": "markdown",
   "id": "1962ef6a",
   "metadata": {},
   "source": [
    "Get all items between 5-10 from array"
   ]
  },
  {
   "cell_type": "code",
   "execution_count": 86,
   "id": "6e3e82ea",
   "metadata": {},
   "outputs": [
    {
     "name": "stdout",
     "output_type": "stream",
     "text": [
      "[ 0  1  2  3  4  5  6  7  8  9 10 11 12 13 14]\n"
     ]
    }
   ],
   "source": [
    "a=np.arange(15)\n",
    "print(a)"
   ]
  },
  {
   "cell_type": "code",
   "execution_count": 87,
   "id": "abb29134",
   "metadata": {},
   "outputs": [
    {
     "data": {
      "text/plain": [
       "(array([ 5,  6,  7,  8,  9, 10], dtype=int64),)"
      ]
     },
     "execution_count": 87,
     "metadata": {},
     "output_type": "execute_result"
    }
   ],
   "source": [
    "np.where((a>=5)&(a<=10))\n"
   ]
  },
  {
   "cell_type": "markdown",
   "id": "7b4a013f",
   "metadata": {},
   "source": [
    "Swap column 1 and 2 from the array"
   ]
  },
  {
   "cell_type": "code",
   "execution_count": 91,
   "id": "cb969199",
   "metadata": {},
   "outputs": [
    {
     "data": {
      "text/plain": [
       "array([[2, 3],\n",
       "       [5, 6],\n",
       "       [8, 9]])"
      ]
     },
     "execution_count": 91,
     "metadata": {},
     "output_type": "execute_result"
    }
   ],
   "source": [
    "a=np.arange(1,10).reshape(3,3)\n",
    "a\n",
    "a[:,[1,2]]"
   ]
  },
  {
   "cell_type": "markdown",
   "id": "3774b58e",
   "metadata": {},
   "source": [
    "Swap row 1 and 2 in the array"
   ]
  },
  {
   "cell_type": "code",
   "execution_count": 96,
   "id": "9e2fcced",
   "metadata": {},
   "outputs": [
    {
     "data": {
      "text/plain": [
       "array([[4, 5, 6],\n",
       "       [7, 8, 9]])"
      ]
     },
     "execution_count": 96,
     "metadata": {},
     "output_type": "execute_result"
    }
   ],
   "source": [
    "a=np.arange(1,10).reshape(3,3)\n",
    "a\n",
    "a[[1,2],:]"
   ]
  },
  {
   "cell_type": "code",
   "execution_count": 97,
   "id": "d6869c57",
   "metadata": {},
   "outputs": [
    {
     "data": {
      "text/plain": [
       "array([[1, 2, 3],\n",
       "       [4, 5, 6],\n",
       "       [7, 8, 9]])"
      ]
     },
     "execution_count": 97,
     "metadata": {},
     "output_type": "execute_result"
    }
   ],
   "source": [
    "a"
   ]
  },
  {
   "cell_type": "markdown",
   "id": "b8c5dc5a",
   "metadata": {},
   "source": [
    "Reverse The Row OF a The 2d array"
   ]
  },
  {
   "cell_type": "code",
   "execution_count": 98,
   "id": "8a82fcac",
   "metadata": {},
   "outputs": [
    {
     "data": {
      "text/plain": [
       "array([[1, 2, 3],\n",
       "       [4, 5, 6],\n",
       "       [7, 8, 9]])"
      ]
     },
     "execution_count": 98,
     "metadata": {},
     "output_type": "execute_result"
    }
   ],
   "source": [
    "a"
   ]
  },
  {
   "cell_type": "code",
   "execution_count": 99,
   "id": "c9aecb22",
   "metadata": {},
   "outputs": [
    {
     "data": {
      "text/plain": [
       "array([[7, 8, 9],\n",
       "       [4, 5, 6],\n",
       "       [1, 2, 3]])"
      ]
     },
     "execution_count": 99,
     "metadata": {},
     "output_type": "execute_result"
    }
   ],
   "source": [
    "a[::-1]"
   ]
  },
  {
   "cell_type": "markdown",
   "id": "fe7d7cbb",
   "metadata": {},
   "source": [
    "Reverse the column of 2d array"
   ]
  },
  {
   "cell_type": "code",
   "execution_count": 100,
   "id": "3133935d",
   "metadata": {},
   "outputs": [
    {
     "data": {
      "text/plain": [
       "array([[1, 2, 3],\n",
       "       [4, 5, 6],\n",
       "       [7, 8, 9]])"
      ]
     },
     "execution_count": 100,
     "metadata": {},
     "output_type": "execute_result"
    }
   ],
   "source": [
    "a"
   ]
  },
  {
   "cell_type": "code",
   "execution_count": 103,
   "id": "9a109ec5",
   "metadata": {},
   "outputs": [
    {
     "data": {
      "text/plain": [
       "array([[3, 2, 1],\n",
       "       [6, 5, 4],\n",
       "       [9, 8, 7]])"
      ]
     },
     "execution_count": 103,
     "metadata": {},
     "output_type": "execute_result"
    }
   ],
   "source": [
    "a[:,::-1]"
   ]
  },
  {
   "cell_type": "markdown",
   "id": "2f8264d7",
   "metadata": {},
   "source": [
    "Create a 2d array of shape 5X3 contain random decimel number between 5 and 10"
   ]
  },
  {
   "cell_type": "code",
   "execution_count": 104,
   "id": "c6d52302",
   "metadata": {},
   "outputs": [],
   "source": [
    "a=np.random.randint(5,10,15).reshape(5,3)"
   ]
  },
  {
   "cell_type": "code",
   "execution_count": 105,
   "id": "0b4fb5b7",
   "metadata": {},
   "outputs": [
    {
     "data": {
      "text/plain": [
       "array([[8, 9, 8],\n",
       "       [8, 9, 7],\n",
       "       [6, 8, 6],\n",
       "       [6, 7, 8],\n",
       "       [5, 8, 5]])"
      ]
     },
     "execution_count": 105,
     "metadata": {},
     "output_type": "execute_result"
    }
   ],
   "source": [
    "a\n"
   ]
  },
  {
   "cell_type": "code",
   "execution_count": 108,
   "id": "52f6f95c",
   "metadata": {},
   "outputs": [],
   "source": [
    "b=np.random.uniform(5,10,size=[5,3])"
   ]
  },
  {
   "cell_type": "code",
   "execution_count": 109,
   "id": "09893c82",
   "metadata": {},
   "outputs": [
    {
     "data": {
      "text/plain": [
       "array([[5.0180775 , 9.94994394, 6.27660806],\n",
       "       [5.3546037 , 8.73796169, 7.53688991],\n",
       "       [5.84630089, 8.30265376, 8.22915082],\n",
       "       [9.20072301, 8.6644252 , 6.86298441],\n",
       "       [6.2690177 , 8.51232493, 7.46664935]])"
      ]
     },
     "execution_count": 109,
     "metadata": {},
     "output_type": "execute_result"
    }
   ],
   "source": [
    "b"
   ]
  },
  {
   "cell_type": "code",
   "execution_count": null,
   "id": "1be38a79",
   "metadata": {},
   "outputs": [],
   "source": [
    "#Student of DataScience\n",
    "#Student of DataTrained-Saurav\n",
    "#Date-22-Julu-2022\n",
    "#Time-20:45\n"
   ]
  }
 ],
 "metadata": {
  "kernelspec": {
   "display_name": "Python 3 (ipykernel)",
   "language": "python",
   "name": "python3"
  },
  "language_info": {
   "codemirror_mode": {
    "name": "ipython",
    "version": 3
   },
   "file_extension": ".py",
   "mimetype": "text/x-python",
   "name": "python",
   "nbconvert_exporter": "python",
   "pygments_lexer": "ipython3",
   "version": "3.9.12"
  }
 },
 "nbformat": 4,
 "nbformat_minor": 5
}
