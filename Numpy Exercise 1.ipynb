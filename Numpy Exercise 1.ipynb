{
 "cells": [
  {
   "cell_type": "code",
   "execution_count": 1,
   "id": "64f4a58e",
   "metadata": {},
   "outputs": [],
   "source": [
    "#Import numpy library"
   ]
  },
  {
   "cell_type": "code",
   "execution_count": 2,
   "id": "c045b0b9",
   "metadata": {},
   "outputs": [],
   "source": [
    "import numpy as np"
   ]
  },
  {
   "cell_type": "code",
   "execution_count": 3,
   "id": "4f36a264",
   "metadata": {},
   "outputs": [],
   "source": [
    "#Create an Array using array function"
   ]
  },
  {
   "cell_type": "code",
   "execution_count": 5,
   "id": "72eff871",
   "metadata": {},
   "outputs": [
    {
     "data": {
      "text/plain": [
       "array([1, 2, 3])"
      ]
     },
     "execution_count": 5,
     "metadata": {},
     "output_type": "execute_result"
    }
   ],
   "source": [
    "arr=np.array([1,2,3])\n",
    "arr"
   ]
  },
  {
   "cell_type": "code",
   "execution_count": 6,
   "id": "db4e2ed8",
   "metadata": {},
   "outputs": [],
   "source": [
    "#Create an Array containing numbers from 20 to 40"
   ]
  },
  {
   "cell_type": "code",
   "execution_count": 12,
   "id": "b2db7a1d",
   "metadata": {},
   "outputs": [
    {
     "data": {
      "text/plain": [
       "array([20, 21, 22, 23, 24, 25, 26, 27, 28, 29, 30, 31, 32, 33, 34, 35, 36,\n",
       "       37, 38, 39, 40])"
      ]
     },
     "execution_count": 12,
     "metadata": {},
     "output_type": "execute_result"
    }
   ],
   "source": [
    "a1=np.arange(20,41)\n",
    "a1"
   ]
  },
  {
   "cell_type": "code",
   "execution_count": 13,
   "id": "ffe011a3",
   "metadata": {},
   "outputs": [],
   "source": [
    "#Create an array which contain 10 elements and every element is 5"
   ]
  },
  {
   "cell_type": "code",
   "execution_count": 15,
   "id": "c8f4604d",
   "metadata": {},
   "outputs": [
    {
     "data": {
      "text/plain": [
       "array([5., 5., 5., 5., 5., 5., 5., 5., 5., 5.])"
      ]
     },
     "execution_count": 15,
     "metadata": {},
     "output_type": "execute_result"
    }
   ],
   "source": [
    "5*np.ones(10)"
   ]
  },
  {
   "cell_type": "code",
   "execution_count": 16,
   "id": "aa76cd60",
   "metadata": {},
   "outputs": [],
   "source": [
    "#create a 1-d array and then convert it into 3-d array"
   ]
  },
  {
   "cell_type": "code",
   "execution_count": 25,
   "id": "d29001f2",
   "metadata": {},
   "outputs": [
    {
     "data": {
      "text/plain": [
       "array([[[37, 15, 42, 42],\n",
       "        [11, 16, 47, 30],\n",
       "        [24, 22, 17, 13]],\n",
       "\n",
       "       [[33, 47, 14, 34],\n",
       "        [25, 16, 26, 29],\n",
       "        [46, 33, 21, 48]]])"
      ]
     },
     "execution_count": 25,
     "metadata": {},
     "output_type": "execute_result"
    }
   ],
   "source": [
    "a=np.random.randint(10,50,24).reshape(2,3,4)\n",
    "a\n",
    "\n"
   ]
  },
  {
   "cell_type": "code",
   "execution_count": 26,
   "id": "8c57f8d9",
   "metadata": {},
   "outputs": [],
   "source": [
    "#Create 2-d array which contains random 25 numbers between 0 and 1"
   ]
  },
  {
   "cell_type": "code",
   "execution_count": 27,
   "id": "5d548a79",
   "metadata": {},
   "outputs": [
    {
     "data": {
      "text/plain": [
       "array([ 1.12621966, -1.4108904 , -1.43327391,  1.50131177, -1.59592736,\n",
       "        0.75791071,  0.33077389, -1.17799525, -0.68602174,  1.37498643,\n",
       "        1.19255356, -0.63699975, -0.17327378, -0.85262162, -1.10431167,\n",
       "       -0.77425963,  0.98311394, -0.87845668, -1.08693695, -0.18097969,\n",
       "        1.24500117,  0.95316712, -0.95229773, -0.95272653,  0.17579142])"
      ]
     },
     "execution_count": 27,
     "metadata": {},
     "output_type": "execute_result"
    }
   ],
   "source": [
    "z=np.random.randn(25)\n",
    "z"
   ]
  },
  {
   "cell_type": "code",
   "execution_count": 28,
   "id": "ea7c85f8",
   "metadata": {},
   "outputs": [],
   "source": [
    "#create array containing 20 random integer then replace every even number with -1"
   ]
  },
  {
   "cell_type": "code",
   "execution_count": 36,
   "id": "c6655f2c",
   "metadata": {},
   "outputs": [
    {
     "data": {
      "text/plain": [
       "array([21, -1, -1, -1, -1, 65, -1, -1, -1, -1, 23, -1, 79, -1, -1, -1, -1,\n",
       "       -1, 21, 65])"
      ]
     },
     "execution_count": 36,
     "metadata": {},
     "output_type": "execute_result"
    }
   ],
   "source": [
    "a=np.random.randint(20,100,20)\n",
    "a[a%2==0]=-1\n",
    "a\n"
   ]
  },
  {
   "cell_type": "code",
   "execution_count": 37,
   "id": "355f29c3",
   "metadata": {},
   "outputs": [],
   "source": [
    "#You have a matrix\n",
    "#[[5 , 10, 15, 20, 25], [30, 35, 40, 45, 50], [55, 60, 65, 70, 75], [80, 85, 90, 95, 100]]\n",
    "\n",
    "#Extract [30,35,40] [55, 60, 65]"
   ]
  },
  {
   "cell_type": "code",
   "execution_count": 38,
   "id": "621b9345",
   "metadata": {},
   "outputs": [],
   "source": [
    "a=np.array([[5 , 10, 15, 20, 25], [30, 35, 40, 45, 50], [55, 60, 65, 70, 75], [80, 85, 90, 95, 100]])"
   ]
  },
  {
   "cell_type": "code",
   "execution_count": 39,
   "id": "4a3c819d",
   "metadata": {},
   "outputs": [
    {
     "data": {
      "text/plain": [
       "array([[  5,  10,  15,  20,  25],\n",
       "       [ 30,  35,  40,  45,  50],\n",
       "       [ 55,  60,  65,  70,  75],\n",
       "       [ 80,  85,  90,  95, 100]])"
      ]
     },
     "execution_count": 39,
     "metadata": {},
     "output_type": "execute_result"
    }
   ],
   "source": [
    "a"
   ]
  },
  {
   "cell_type": "code",
   "execution_count": 42,
   "id": "8142a3bf",
   "metadata": {},
   "outputs": [
    {
     "data": {
      "text/plain": [
       "array([[30, 35, 40],\n",
       "       [55, 60, 65]])"
      ]
     },
     "execution_count": 42,
     "metadata": {},
     "output_type": "execute_result"
    }
   ],
   "source": [
    "a[1:3,0:3]"
   ]
  },
  {
   "cell_type": "code",
   "execution_count": 43,
   "id": "74fc863b",
   "metadata": {},
   "outputs": [],
   "source": [
    "#Concatenate two 1-d array"
   ]
  },
  {
   "cell_type": "code",
   "execution_count": 49,
   "id": "29b8719b",
   "metadata": {},
   "outputs": [
    {
     "data": {
      "text/plain": [
       "array([2, 3, 4, 3, 6, 2])"
      ]
     },
     "execution_count": 49,
     "metadata": {},
     "output_type": "execute_result"
    }
   ],
   "source": [
    "a=np.array([2,3,4])\n",
    "b=np.array([3,6,2])\n",
    "np.hstack((a,b))"
   ]
  },
  {
   "cell_type": "code",
   "execution_count": 50,
   "id": "9f551032",
   "metadata": {},
   "outputs": [],
   "source": [
    "#vStack 2-d matrix horizontally and vertically"
   ]
  },
  {
   "cell_type": "code",
   "execution_count": 64,
   "id": "d05292cc",
   "metadata": {},
   "outputs": [
    {
     "data": {
      "text/plain": [
       "array([[ 1,  9,  8],\n",
       "       [ 1,  1,  2],\n",
       "       [ 9,  7,  3],\n",
       "       [11, 17, 17],\n",
       "       [14, 18, 11],\n",
       "       [16, 15, 18]])"
      ]
     },
     "execution_count": 64,
     "metadata": {},
     "output_type": "execute_result"
    }
   ],
   "source": [
    "matrix1=np.random.randint(1,10,9).reshape(3,3)\n",
    "matrix2=np.random.randint(10,20,9).reshape(3,3)\n",
    "\n",
    "np.vstack((matrix1,matrix2))"
   ]
  },
  {
   "cell_type": "code",
   "execution_count": 65,
   "id": "07ec7083",
   "metadata": {},
   "outputs": [],
   "source": [
    "#3 deimensional array"
   ]
  },
  {
   "cell_type": "code",
   "execution_count": 80,
   "id": "facc335e",
   "metadata": {},
   "outputs": [],
   "source": [
    "a=np.array([[[1,2,3],[2,6,4],[3,8,9],[4,7,8],[5,8,7]]])"
   ]
  },
  {
   "cell_type": "code",
   "execution_count": null,
   "id": "e0d4e485",
   "metadata": {},
   "outputs": [],
   "source": []
  },
  {
   "cell_type": "code",
   "execution_count": 81,
   "id": "34eebf6c",
   "metadata": {},
   "outputs": [
    {
     "data": {
      "text/plain": [
       "array([[[1, 2, 3],\n",
       "        [2, 6, 4],\n",
       "        [3, 8, 9],\n",
       "        [4, 7, 8],\n",
       "        [5, 8, 7]]])"
      ]
     },
     "execution_count": 81,
     "metadata": {},
     "output_type": "execute_result"
    }
   ],
   "source": [
    "a"
   ]
  },
  {
   "cell_type": "code",
   "execution_count": 78,
   "id": "6f995e4f",
   "metadata": {},
   "outputs": [
    {
     "data": {
      "text/plain": [
       "3"
      ]
     },
     "execution_count": 78,
     "metadata": {},
     "output_type": "execute_result"
    }
   ],
   "source": [
    "a.ndim"
   ]
  },
  {
   "cell_type": "code",
   "execution_count": null,
   "id": "43884e31",
   "metadata": {},
   "outputs": [],
   "source": [
    "#Student of Data Science\n",
    "#Student of DataTrained- Saurav\n",
    "#Data-19-July-2022\n",
    "#Time-23:04"
   ]
  }
 ],
 "metadata": {
  "kernelspec": {
   "display_name": "Python 3 (ipykernel)",
   "language": "python",
   "name": "python3"
  },
  "language_info": {
   "codemirror_mode": {
    "name": "ipython",
    "version": 3
   },
   "file_extension": ".py",
   "mimetype": "text/x-python",
   "name": "python",
   "nbconvert_exporter": "python",
   "pygments_lexer": "ipython3",
   "version": "3.9.12"
  }
 },
 "nbformat": 4,
 "nbformat_minor": 5
}
