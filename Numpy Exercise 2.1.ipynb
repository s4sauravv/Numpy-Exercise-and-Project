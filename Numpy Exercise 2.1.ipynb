{
 "cells": [
  {
   "cell_type": "markdown",
   "id": "7419937c",
   "metadata": {},
   "source": [
    "# Practice Set Of Numpy"
   ]
  },
  {
   "cell_type": "markdown",
   "id": "3753a31e",
   "metadata": {},
   "source": [
    "Q.No.1- Write a Statement to Import Numpy"
   ]
  },
  {
   "cell_type": "code",
   "execution_count": 2,
   "id": "d7de03fc",
   "metadata": {},
   "outputs": [],
   "source": [
    "import numpy as nmp"
   ]
  },
  {
   "cell_type": "markdown",
   "id": "eea432b0",
   "metadata": {},
   "source": [
    "Q.No.2- Create an array using Numpy."
   ]
  },
  {
   "cell_type": "code",
   "execution_count": 3,
   "id": "bec303ac",
   "metadata": {},
   "outputs": [
    {
     "data": {
      "text/plain": [
       "array([2, 4, 5, 6])"
      ]
     },
     "execution_count": 3,
     "metadata": {},
     "output_type": "execute_result"
    }
   ],
   "source": [
    "np.array([2,4,5,6])"
   ]
  },
  {
   "cell_type": "markdown",
   "id": "d7ff0e65",
   "metadata": {},
   "source": [
    "Q.No.3-Create an array of 10 random integer"
   ]
  },
  {
   "cell_type": "code",
   "execution_count": 5,
   "id": "01ffeaf8",
   "metadata": {},
   "outputs": [
    {
     "name": "stdout",
     "output_type": "stream",
     "text": [
      "[48 30 12 32  6 46 22 25 21 29]\n"
     ]
    }
   ],
   "source": [
    "a=np.random.randint(1,50,10)\n",
    "print(a)"
   ]
  },
  {
   "cell_type": "markdown",
   "id": "cea45f3d",
   "metadata": {},
   "source": [
    "Q.No.4- Create an array which contain array 5, 10 times"
   ]
  },
  {
   "cell_type": "code",
   "execution_count": 6,
   "id": "f3f85bbe",
   "metadata": {},
   "outputs": [
    {
     "data": {
      "text/plain": [
       "array([5., 5., 5., 5., 5., 5., 5., 5., 5., 5.])"
      ]
     },
     "execution_count": 6,
     "metadata": {},
     "output_type": "execute_result"
    }
   ],
   "source": [
    "5*np.ones(10)"
   ]
  },
  {
   "cell_type": "markdown",
   "id": "2e6da76b",
   "metadata": {},
   "source": [
    "Q.No.5-Create a one dimensional array and convert that into 3X3 matrix."
   ]
  },
  {
   "cell_type": "code",
   "execution_count": 7,
   "id": "99f1830a",
   "metadata": {},
   "outputs": [],
   "source": [
    "a=np.array([1,2,3,4,5,6,7,8,9])"
   ]
  },
  {
   "cell_type": "code",
   "execution_count": 8,
   "id": "60cb715d",
   "metadata": {},
   "outputs": [
    {
     "data": {
      "text/plain": [
       "array([1, 2, 3, 4, 5, 6, 7, 8, 9])"
      ]
     },
     "execution_count": 8,
     "metadata": {},
     "output_type": "execute_result"
    }
   ],
   "source": [
    "a"
   ]
  },
  {
   "cell_type": "code",
   "execution_count": 9,
   "id": "f4a93d80",
   "metadata": {},
   "outputs": [
    {
     "data": {
      "text/plain": [
       "array([[1, 2, 3],\n",
       "       [4, 5, 6],\n",
       "       [7, 8, 9]])"
      ]
     },
     "execution_count": 9,
     "metadata": {},
     "output_type": "execute_result"
    }
   ],
   "source": [
    "a.reshape(3,3)"
   ]
  },
  {
   "cell_type": "markdown",
   "id": "45233fe0",
   "metadata": {},
   "source": [
    "Q.No.6-Create an array and then convert all the even number with zero."
   ]
  },
  {
   "cell_type": "code",
   "execution_count": 10,
   "id": "308d53cb",
   "metadata": {},
   "outputs": [],
   "source": [
    "a=np.arange(1,15)"
   ]
  },
  {
   "cell_type": "markdown",
   "id": "50010a78",
   "metadata": {},
   "source": [
    "a"
   ]
  },
  {
   "cell_type": "code",
   "execution_count": 16,
   "id": "8b003eb5",
   "metadata": {},
   "outputs": [
    {
     "name": "stdout",
     "output_type": "stream",
     "text": [
      "[ 1  0  3  0  5  0  7  0  9  0 11  0 13  0]\n"
     ]
    }
   ],
   "source": [
    "\n",
    "a[a%2==0]=0\n",
    "print(a)\n"
   ]
  },
  {
   "cell_type": "markdown",
   "id": "542c3f90",
   "metadata": {},
   "source": [
    "Q.No.7- Create a 2D array of size 3*3 but all the elements shoulb be between 0 and 1"
   ]
  },
  {
   "cell_type": "code",
   "execution_count": 17,
   "id": "45b92867",
   "metadata": {},
   "outputs": [
    {
     "data": {
      "text/plain": [
       "array([[0.902331  , 0.29987976, 0.61112889],\n",
       "       [0.91351874, 0.98648048, 0.23261621],\n",
       "       [0.60740154, 0.95571493, 0.29550787]])"
      ]
     },
     "execution_count": 17,
     "metadata": {},
     "output_type": "execute_result"
    }
   ],
   "source": [
    "a=np.random.rand(3,3)\n",
    "a"
   ]
  },
  {
   "cell_type": "markdown",
   "id": "bbe0221b",
   "metadata": {},
   "source": [
    "Q.No.8- Peform the following slicing."
   ]
  },
  {
   "cell_type": "code",
   "execution_count": 18,
   "id": "d2a1ddb7",
   "metadata": {},
   "outputs": [],
   "source": [
    "a=np.array([[1,2,3,4],[5,6,7,8],[9,10,11,12],[13,14,15,16]])"
   ]
  },
  {
   "cell_type": "code",
   "execution_count": 19,
   "id": "888e29d3",
   "metadata": {},
   "outputs": [
    {
     "data": {
      "text/plain": [
       "array([[ 1,  2,  3,  4],\n",
       "       [ 5,  6,  7,  8],\n",
       "       [ 9, 10, 11, 12],\n",
       "       [13, 14, 15, 16]])"
      ]
     },
     "execution_count": 19,
     "metadata": {},
     "output_type": "execute_result"
    }
   ],
   "source": [
    "a"
   ]
  },
  {
   "cell_type": "code",
   "execution_count": 20,
   "id": "6b4f196a",
   "metadata": {},
   "outputs": [
    {
     "data": {
      "text/plain": [
       "array([[ 6,  7],\n",
       "       [10, 11],\n",
       "       [14, 15]])"
      ]
     },
     "execution_count": 20,
     "metadata": {},
     "output_type": "execute_result"
    }
   ],
   "source": [
    "a[1:,1:3]"
   ]
  },
  {
   "cell_type": "markdown",
   "id": "bb59eaed",
   "metadata": {},
   "source": [
    "Q.No-9-Concatenate 2d array horizontally and vertically."
   ]
  },
  {
   "cell_type": "code",
   "execution_count": 23,
   "id": "4030f8a2",
   "metadata": {},
   "outputs": [
    {
     "name": "stdout",
     "output_type": "stream",
     "text": [
      "[[1 2 3]\n",
      " [4 5 6]\n",
      " [7 8 9]]\n"
     ]
    }
   ],
   "source": [
    "a=np.array([[1,2,3],[4,5,6],[7,8,9]])\n",
    "print(a)"
   ]
  },
  {
   "cell_type": "code",
   "execution_count": 24,
   "id": "07b312ab",
   "metadata": {},
   "outputs": [
    {
     "data": {
      "text/plain": [
       "array([[1, 2, 3],\n",
       "       [4, 5, 6],\n",
       "       [7, 8, 9]])"
      ]
     },
     "execution_count": 24,
     "metadata": {},
     "output_type": "execute_result"
    }
   ],
   "source": [
    "np.vstack(a)"
   ]
  },
  {
   "cell_type": "code",
   "execution_count": 25,
   "id": "45b7c626",
   "metadata": {},
   "outputs": [
    {
     "data": {
      "text/plain": [
       "array([1, 2, 3, 4, 5, 6, 7, 8, 9])"
      ]
     },
     "execution_count": 25,
     "metadata": {},
     "output_type": "execute_result"
    }
   ],
   "source": [
    "np.hstack(a)"
   ]
  },
  {
   "cell_type": "markdown",
   "id": "441b2849",
   "metadata": {},
   "source": [
    "Q.No.10-Create an element from 10 to 20"
   ]
  },
  {
   "cell_type": "code",
   "execution_count": 27,
   "id": "8b2de5cc",
   "metadata": {},
   "outputs": [
    {
     "name": "stdout",
     "output_type": "stream",
     "text": [
      "[10 11 12 13 14 15 16 17 18 19 20]\n"
     ]
    }
   ],
   "source": [
    "a=np.arange(10,21)\n",
    "print(a)"
   ]
  },
  {
   "cell_type": "code",
   "execution_count": null,
   "id": "466b6963",
   "metadata": {},
   "outputs": [],
   "source": [
    "#Student of Data Science\n",
    "#Student of DataTrained\n",
    "#Date-22-July-2022\n",
    "#Time-8:40"
   ]
  }
 ],
 "metadata": {
  "kernelspec": {
   "display_name": "Python 3 (ipykernel)",
   "language": "python",
   "name": "python3"
  },
  "language_info": {
   "codemirror_mode": {
    "name": "ipython",
    "version": 3
   },
   "file_extension": ".py",
   "mimetype": "text/x-python",
   "name": "python",
   "nbconvert_exporter": "python",
   "pygments_lexer": "ipython3",
   "version": "3.9.12"
  }
 },
 "nbformat": 4,
 "nbformat_minor": 5
}
