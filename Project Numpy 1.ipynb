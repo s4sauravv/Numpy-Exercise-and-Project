{
 "cells": [
  {
   "cell_type": "code",
   "execution_count": null,
   "id": "6d04388e",
   "metadata": {},
   "outputs": [],
   "source": [
    "#Project Numpy 1"
   ]
  },
  {
   "cell_type": "code",
   "execution_count": 95,
   "id": "e64f3188",
   "metadata": {},
   "outputs": [],
   "source": [
    "import numpy as np"
   ]
  },
  {
   "cell_type": "code",
   "execution_count": 107,
   "id": "226b9349",
   "metadata": {},
   "outputs": [],
   "source": [
    "data=np.loadtxt(\"even_numbers.txt\")\n",
    "\n"
   ]
  },
  {
   "cell_type": "code",
   "execution_count": 97,
   "id": "b8ba9949",
   "metadata": {},
   "outputs": [
    {
     "data": {
      "text/plain": [
       "array([[ 2.,  4.,  6.,  8., 10.],\n",
       "       [12., 14., 16., 18., 20.],\n",
       "       [22., 24., 26., 28., 30.],\n",
       "       [32., 34., 36., 38., 40.],\n",
       "       [42., 44., 46., 48., 50.]])"
      ]
     },
     "execution_count": 97,
     "metadata": {},
     "output_type": "execute_result"
    }
   ],
   "source": [
    "data"
   ]
  },
  {
   "cell_type": "code",
   "execution_count": 98,
   "id": "ce08cb2d",
   "metadata": {},
   "outputs": [],
   "source": [
    "#Check of the type of data"
   ]
  },
  {
   "cell_type": "code",
   "execution_count": 100,
   "id": "c8554dbf",
   "metadata": {},
   "outputs": [
    {
     "data": {
      "text/plain": [
       "numpy.ndarray"
      ]
     },
     "execution_count": 100,
     "metadata": {},
     "output_type": "execute_result"
    }
   ],
   "source": [
    "type(data)"
   ]
  },
  {
   "cell_type": "code",
   "execution_count": 101,
   "id": "4c473779",
   "metadata": {},
   "outputs": [],
   "source": [
    "#check dtype"
   ]
  },
  {
   "cell_type": "code",
   "execution_count": 102,
   "id": "3bd9cae7",
   "metadata": {},
   "outputs": [
    {
     "data": {
      "text/plain": [
       "dtype('float64')"
      ]
     },
     "execution_count": 102,
     "metadata": {},
     "output_type": "execute_result"
    }
   ],
   "source": [
    "data.dtype"
   ]
  },
  {
   "cell_type": "code",
   "execution_count": 103,
   "id": "fea3b7ed",
   "metadata": {},
   "outputs": [],
   "source": [
    "#chage float to int"
   ]
  },
  {
   "cell_type": "code",
   "execution_count": 109,
   "id": "0b190635",
   "metadata": {},
   "outputs": [
    {
     "name": "stdout",
     "output_type": "stream",
     "text": [
      "[[ 2  4  6  8 10]\n",
      " [12 14 16 18 20]\n",
      " [22 24 26 28 30]\n",
      " [32 34 36 38 40]\n",
      " [42 44 46 48 50]]\n"
     ]
    }
   ],
   "source": [
    "data=np.loadtxt(\"even_numbers.txt\",dtype=int)\n",
    "\n",
    "print(data)"
   ]
  },
  {
   "cell_type": "code",
   "execution_count": 113,
   "id": "327a41dc",
   "metadata": {},
   "outputs": [],
   "source": [
    "#We dont want to to take 1 row  ."
   ]
  },
  {
   "cell_type": "code",
   "execution_count": 111,
   "id": "48759183",
   "metadata": {},
   "outputs": [],
   "source": [
    "data=np.loadtxt(\"even_numbers.txt\",dtype=int,skiprows=True)"
   ]
  },
  {
   "cell_type": "code",
   "execution_count": 112,
   "id": "d1243a5e",
   "metadata": {},
   "outputs": [
    {
     "data": {
      "text/plain": [
       "array([[12, 14, 16, 18, 20],\n",
       "       [22, 24, 26, 28, 30],\n",
       "       [32, 34, 36, 38, 40],\n",
       "       [42, 44, 46, 48, 50]])"
      ]
     },
     "execution_count": 112,
     "metadata": {},
     "output_type": "execute_result"
    }
   ],
   "source": [
    "data"
   ]
  },
  {
   "cell_type": "code",
   "execution_count": 114,
   "id": "3f99e28a",
   "metadata": {},
   "outputs": [],
   "source": [
    "#we want to use only selected column as per use"
   ]
  },
  {
   "cell_type": "code",
   "execution_count": 115,
   "id": "17fe2598",
   "metadata": {},
   "outputs": [],
   "source": [
    "data=np.loadtxt(\"even_numbers.txt\",dtype=int,usecols=(1,3))"
   ]
  },
  {
   "cell_type": "code",
   "execution_count": 116,
   "id": "62bf0ef2",
   "metadata": {},
   "outputs": [
    {
     "data": {
      "text/plain": [
       "array([[ 4,  8],\n",
       "       [14, 18],\n",
       "       [24, 28],\n",
       "       [34, 38],\n",
       "       [44, 48]])"
      ]
     },
     "execution_count": 116,
     "metadata": {},
     "output_type": "execute_result"
    }
   ],
   "source": [
    "data"
   ]
  },
  {
   "cell_type": "code",
   "execution_count": 118,
   "id": "e20949a4",
   "metadata": {},
   "outputs": [],
   "source": [
    "#when we want only first column  and show in row from"
   ]
  },
  {
   "cell_type": "code",
   "execution_count": 123,
   "id": "0d79d231",
   "metadata": {},
   "outputs": [],
   "source": [
    "data=np.loadtxt(\"even_numbers.txt\",dtype=int,usecols=0)"
   ]
  },
  {
   "cell_type": "code",
   "execution_count": 124,
   "id": "a356f3d3",
   "metadata": {},
   "outputs": [
    {
     "data": {
      "text/plain": [
       "array([ 2, 12, 22, 32, 42])"
      ]
     },
     "execution_count": 124,
     "metadata": {},
     "output_type": "execute_result"
    }
   ],
   "source": [
    "data"
   ]
  },
  {
   "cell_type": "code",
   "execution_count": 125,
   "id": "8d771479",
   "metadata": {},
   "outputs": [],
   "source": [
    "#when we want in string "
   ]
  },
  {
   "cell_type": "code",
   "execution_count": 126,
   "id": "b11ee388",
   "metadata": {},
   "outputs": [],
   "source": [
    "data=np.loadtxt(\"even_numbers.txt\",dtype=str,usecols=0)"
   ]
  },
  {
   "cell_type": "code",
   "execution_count": 127,
   "id": "6fbd619f",
   "metadata": {},
   "outputs": [
    {
     "data": {
      "text/plain": [
       "array(['2', '12', '22', '32', '42'], dtype='<U2')"
      ]
     },
     "execution_count": 127,
     "metadata": {},
     "output_type": "execute_result"
    }
   ],
   "source": [
    "data"
   ]
  },
  {
   "cell_type": "code",
   "execution_count": 128,
   "id": "2e832e39",
   "metadata": {},
   "outputs": [],
   "source": [
    "#use another file"
   ]
  },
  {
   "cell_type": "code",
   "execution_count": 131,
   "id": "7bdea5ab",
   "metadata": {},
   "outputs": [],
   "source": [
    "data=np.loadtxt(\"glass.csv\",delimiter=\",\")"
   ]
  },
  {
   "cell_type": "code",
   "execution_count": 132,
   "id": "e41771f5",
   "metadata": {},
   "outputs": [
    {
     "data": {
      "text/plain": [
       "array([[  1.     ,   1.52101,  13.64   , ...,   0.     ,   0.     ,\n",
       "          1.     ],\n",
       "       [  2.     ,   1.51761,  13.89   , ...,   0.     ,   0.     ,\n",
       "          1.     ],\n",
       "       [  3.     ,   1.51618,  13.53   , ...,   0.     ,   0.     ,\n",
       "          1.     ],\n",
       "       ...,\n",
       "       [212.     ,   1.52065,  14.36   , ...,   1.64   ,   0.     ,\n",
       "          7.     ],\n",
       "       [213.     ,   1.51651,  14.38   , ...,   1.57   ,   0.     ,\n",
       "          7.     ],\n",
       "       [214.     ,   1.51711,  14.23   , ...,   1.67   ,   0.     ,\n",
       "          7.     ]])"
      ]
     },
     "execution_count": 132,
     "metadata": {},
     "output_type": "execute_result"
    }
   ],
   "source": [
    "data"
   ]
  },
  {
   "cell_type": "code",
   "execution_count": 133,
   "id": "83c99b16",
   "metadata": {},
   "outputs": [],
   "source": [
    "##check shape "
   ]
  },
  {
   "cell_type": "code",
   "execution_count": 134,
   "id": "68ecdb05",
   "metadata": {},
   "outputs": [
    {
     "data": {
      "text/plain": [
       "(214, 11)"
      ]
     },
     "execution_count": 134,
     "metadata": {},
     "output_type": "execute_result"
    }
   ],
   "source": [
    "data.shape"
   ]
  },
  {
   "cell_type": "code",
   "execution_count": 135,
   "id": "20193d23",
   "metadata": {},
   "outputs": [],
   "source": [
    "#data type"
   ]
  },
  {
   "cell_type": "code",
   "execution_count": 136,
   "id": "e21ba1a7",
   "metadata": {},
   "outputs": [
    {
     "data": {
      "text/plain": [
       "dtype('float64')"
      ]
     },
     "execution_count": 136,
     "metadata": {},
     "output_type": "execute_result"
    }
   ],
   "source": [
    "data.dtype"
   ]
  },
  {
   "cell_type": "code",
   "execution_count": 138,
   "id": "638c38cd",
   "metadata": {},
   "outputs": [],
   "source": [
    "#when we want to remove 1st row which are index value"
   ]
  },
  {
   "cell_type": "code",
   "execution_count": 137,
   "id": "a82d26b2",
   "metadata": {},
   "outputs": [
    {
     "data": {
      "text/plain": [
       "array([1.52101, 1.51761, 1.51618, 1.51766, 1.51742, 1.51596, 1.51743,\n",
       "       1.51756, 1.51918, 1.51755, 1.51571, 1.51763, 1.51589, 1.51748,\n",
       "       1.51763, 1.51761, 1.51784, 1.52196, 1.51911, 1.51735, 1.5175 ,\n",
       "       1.51966, 1.51736, 1.51751, 1.5172 , 1.51764, 1.51793, 1.51721,\n",
       "       1.51768, 1.51784, 1.51768, 1.51747, 1.51775, 1.51753, 1.51783,\n",
       "       1.51567, 1.51909, 1.51797, 1.52213, 1.52213, 1.51793, 1.51755,\n",
       "       1.51779, 1.5221 , 1.51786, 1.519  , 1.51869, 1.52667, 1.52223,\n",
       "       1.51898, 1.5232 , 1.51926, 1.51808, 1.51837, 1.51778, 1.51769,\n",
       "       1.51215, 1.51824, 1.51754, 1.51754, 1.51905, 1.51977, 1.52172,\n",
       "       1.52227, 1.52172, 1.52099, 1.52152, 1.52152, 1.52152, 1.523  ,\n",
       "       1.51574, 1.51848, 1.51593, 1.51631, 1.51596, 1.5159 , 1.51645,\n",
       "       1.51627, 1.51613, 1.5159 , 1.51592, 1.51593, 1.51646, 1.51594,\n",
       "       1.51409, 1.51625, 1.51569, 1.51645, 1.51618, 1.5164 , 1.51841,\n",
       "       1.51605, 1.51588, 1.5159 , 1.51629, 1.5186 , 1.51841, 1.51743,\n",
       "       1.51689, 1.51811, 1.51655, 1.5173 , 1.5182 , 1.52725, 1.5241 ,\n",
       "       1.52475, 1.53125, 1.53393, 1.52222, 1.51818, 1.52664, 1.52739,\n",
       "       1.52777, 1.51892, 1.51847, 1.51846, 1.51829, 1.51708, 1.51673,\n",
       "       1.51652, 1.51844, 1.51663, 1.51687, 1.51707, 1.52177, 1.51872,\n",
       "       1.51667, 1.52081, 1.52068, 1.5202 , 1.52177, 1.52614, 1.51813,\n",
       "       1.518  , 1.51811, 1.51789, 1.51806, 1.51711, 1.51674, 1.51674,\n",
       "       1.5169 , 1.51851, 1.51662, 1.51709, 1.5166 , 1.51839, 1.51769,\n",
       "       1.5161 , 1.5167 , 1.51643, 1.51665, 1.52127, 1.51779, 1.5161 ,\n",
       "       1.51694, 1.51646, 1.51655, 1.52121, 1.51776, 1.51796, 1.51832,\n",
       "       1.51934, 1.52211, 1.51514, 1.51915, 1.52171, 1.52151, 1.51969,\n",
       "       1.51666, 1.51994, 1.52369, 1.51316, 1.51321, 1.52043, 1.52058,\n",
       "       1.52119, 1.51905, 1.51937, 1.51829, 1.51852, 1.51299, 1.51888,\n",
       "       1.51916, 1.51969, 1.51115, 1.51131, 1.51838, 1.52315, 1.52247,\n",
       "       1.52365, 1.51613, 1.51602, 1.51623, 1.51719, 1.51683, 1.51545,\n",
       "       1.51556, 1.51727, 1.51531, 1.51609, 1.51508, 1.51653, 1.51514,\n",
       "       1.51658, 1.51617, 1.51732, 1.51645, 1.51831, 1.5164 , 1.51623,\n",
       "       1.51685, 1.52065, 1.51651, 1.51711])"
      ]
     },
     "execution_count": 137,
     "metadata": {},
     "output_type": "execute_result"
    }
   ],
   "source": [
    "data[:,1]"
   ]
  },
  {
   "cell_type": "code",
   "execution_count": 139,
   "id": "b5be103f",
   "metadata": {},
   "outputs": [],
   "source": [
    "#use genfromtxt- ? what is genfromtxt ?\n",
    "# when we have a data but in data there are nan value . if in any dataset nan value available then we use genfromtxt"
   ]
  },
  {
   "cell_type": "code",
   "execution_count": 142,
   "id": "c476c5be",
   "metadata": {},
   "outputs": [],
   "source": [
    "data=np.genfromtxt(\"odd_numbers.csv\",delimiter=\",\")"
   ]
  },
  {
   "cell_type": "code",
   "execution_count": 143,
   "id": "0cc0f16a",
   "metadata": {},
   "outputs": [
    {
     "data": {
      "text/plain": [
       "array([[ 1.,  3.,  5.,  7.,  9.],\n",
       "       [11., 13., 15., 17., 19.],\n",
       "       [21., 23., 25., 27., 29.],\n",
       "       [31., 33., 35., 37., 39.],\n",
       "       [43., 45., 47., 49., nan]])"
      ]
     },
     "execution_count": 143,
     "metadata": {},
     "output_type": "execute_result"
    }
   ],
   "source": [
    "data"
   ]
  },
  {
   "cell_type": "code",
   "execution_count": 144,
   "id": "555cea56",
   "metadata": {},
   "outputs": [],
   "source": [
    "#see  in right corner there is one value nan. then how to fill the nan value"
   ]
  },
  {
   "cell_type": "code",
   "execution_count": 151,
   "id": "00d0189c",
   "metadata": {},
   "outputs": [],
   "source": [
    "data=np.genfromtxt(\"odd_numbers.csv\",delimiter=\",\",filling_values=1,invalid_raise=True)"
   ]
  },
  {
   "cell_type": "code",
   "execution_count": 149,
   "id": "72db5e73",
   "metadata": {},
   "outputs": [
    {
     "data": {
      "text/plain": [
       "array([[ 1.,  3.,  5.,  7.,  9.],\n",
       "       [11., 13., 15., 17., 19.],\n",
       "       [21., 23., 25., 27., 29.],\n",
       "       [31., 33., 35., 37., 39.],\n",
       "       [43., 45., 47., 49.,  1.]])"
      ]
     },
     "execution_count": 149,
     "metadata": {},
     "output_type": "execute_result"
    }
   ],
   "source": [
    "data"
   ]
  },
  {
   "cell_type": "code",
   "execution_count": 152,
   "id": "e89b3b1f",
   "metadata": {},
   "outputs": [],
   "source": [
    "#when we have a question mark in dataset. lets se how we handle"
   ]
  },
  {
   "cell_type": "code",
   "execution_count": 156,
   "id": "95244584",
   "metadata": {},
   "outputs": [],
   "source": [
    "data=np.genfromtxt(\"odd_numbers.csv\",delimiter=\",\",missing_values='?',filling_values=0,invalid_raise=True)"
   ]
  },
  {
   "cell_type": "code",
   "execution_count": 157,
   "id": "f1254139",
   "metadata": {},
   "outputs": [
    {
     "data": {
      "text/plain": [
       "array([[ 1.,  3.,  5.,  7.,  9.],\n",
       "       [11., 13., 15., 17., 19.],\n",
       "       [21., 23., 25., 27., 29.],\n",
       "       [31., 33., 35., 37., 39.],\n",
       "       [43., 45., 47., 49.,  0.]])"
      ]
     },
     "execution_count": 157,
     "metadata": {},
     "output_type": "execute_result"
    }
   ],
   "source": [
    "data"
   ]
  },
  {
   "cell_type": "code",
   "execution_count": 158,
   "id": "57a8eaf5",
   "metadata": {},
   "outputs": [],
   "source": [
    "#now i want in the place of zero i want to put 'Unknown'"
   ]
  },
  {
   "cell_type": "code",
   "execution_count": 161,
   "id": "178c5dad",
   "metadata": {},
   "outputs": [],
   "source": [
    "#now open another file which have types of data"
   ]
  },
  {
   "cell_type": "code",
   "execution_count": 169,
   "id": "bebd62a0",
   "metadata": {},
   "outputs": [
    {
     "data": {
      "text/plain": [
       "array([['E1', 'M', '3', ..., 'SHORT', 'S', 'WOOD'],\n",
       "       ['E2', 'A', '25', ..., 'SHORT', 'S', 'WOOD'],\n",
       "       ['E3', 'A', '39', ..., '?', 'S', 'WOOD'],\n",
       "       ...,\n",
       "       ['E90', 'M', '7', ..., 'LONG', 'F', 'ARCH'],\n",
       "       ['E100', 'O', '43', ..., '?', 'F', '?'],\n",
       "       ['E109', 'A', '28', ..., '?', 'F', '?']], dtype='<U8')"
      ]
     },
     "execution_count": 169,
     "metadata": {},
     "output_type": "execute_result"
    }
   ],
   "source": [
    "data=np.genfromtxt('highway.csv',delimiter=\",\",dtype=str,missing_values='?',filling_values=0)\n",
    "data"
   ]
  },
  {
   "cell_type": "code",
   "execution_count": 170,
   "id": "1ae4de86",
   "metadata": {},
   "outputs": [],
   "source": [
    "#now i want in the place of '?' i want to put 'Unknown'"
   ]
  },
  {
   "cell_type": "code",
   "execution_count": 171,
   "id": "a426a6bc",
   "metadata": {},
   "outputs": [],
   "source": [
    "data[data=='?']='Unknown'"
   ]
  },
  {
   "cell_type": "code",
   "execution_count": 172,
   "id": "829dc1cd",
   "metadata": {},
   "outputs": [
    {
     "data": {
      "text/plain": [
       "array([['E1', 'M', '3', ..., 'SHORT', 'S', 'WOOD'],\n",
       "       ['E2', 'A', '25', ..., 'SHORT', 'S', 'WOOD'],\n",
       "       ['E3', 'A', '39', ..., 'Unknown', 'S', 'WOOD'],\n",
       "       ...,\n",
       "       ['E90', 'M', '7', ..., 'LONG', 'F', 'ARCH'],\n",
       "       ['E100', 'O', '43', ..., 'Unknown', 'F', 'Unknown'],\n",
       "       ['E109', 'A', '28', ..., 'Unknown', 'F', 'Unknown']], dtype='<U8')"
      ]
     },
     "execution_count": 172,
     "metadata": {},
     "output_type": "execute_result"
    }
   ],
   "source": [
    "data"
   ]
  },
  {
   "cell_type": "code",
   "execution_count": 178,
   "id": "567893bc",
   "metadata": {},
   "outputs": [],
   "source": [
    "#if we want to find how much M available in our data set which are available on or data set"
   ]
  },
  {
   "cell_type": "code",
   "execution_count": 174,
   "id": "8435bdf6",
   "metadata": {},
   "outputs": [],
   "source": [
    "data=data[:,1]"
   ]
  },
  {
   "cell_type": "code",
   "execution_count": 175,
   "id": "471ed4f2",
   "metadata": {},
   "outputs": [
    {
     "data": {
      "text/plain": [
       "array(['M', 'A', 'A', 'A', 'M', 'A', 'A', 'M', 'A', 'A', 'A', 'M', 'A',\n",
       "       'A', 'A', 'M', 'A', 'A', 'A', 'M', 'M', 'A', 'O', 'M', 'A', 'M',\n",
       "       'A', 'A', 'M', 'A', 'M', 'O', 'M', 'O', 'A', 'M', 'M', 'A', 'A',\n",
       "       'M', 'M', 'M', 'O', 'M', 'A', 'M', 'M', 'A', 'A', 'M', 'A', 'M',\n",
       "       'A', 'M', 'M', 'M', 'A', 'M', 'Y', 'M', 'A', 'O', 'O', 'A', 'M',\n",
       "       'O', 'A', 'A', 'A', 'A', 'A', 'A', 'A', 'A', 'O', 'A', 'M', 'M',\n",
       "       'A', 'M', 'A', 'M', 'O', 'O', 'M', 'M', 'A', 'A', 'A', 'A', 'O',\n",
       "       'Y', 'Y', 'M', 'M', 'M', 'M', 'A', 'O', 'O', 'M', 'A', 'M', 'A',\n",
       "       'O', 'M', 'O', 'A'], dtype='<U8')"
      ]
     },
     "execution_count": 175,
     "metadata": {},
     "output_type": "execute_result"
    }
   ],
   "source": [
    "data"
   ]
  },
  {
   "cell_type": "code",
   "execution_count": 177,
   "id": "bb427942",
   "metadata": {},
   "outputs": [
    {
     "name": "stdout",
     "output_type": "stream",
     "text": [
      "41\n"
     ]
    }
   ],
   "source": [
    "m=0\n",
    "for i in data:\n",
    "    if i=='M':\n",
    "        \n",
    "        m+=1\n",
    "print(m)"
   ]
  },
  {
   "cell_type": "code",
   "execution_count": null,
   "id": "a1e63ecb",
   "metadata": {},
   "outputs": [],
   "source": [
    "#Student of Data Science\n",
    "#Studen of DataTrained-Saurav\n",
    "#Data-20-07-2022\n",
    "#Time-13:50"
   ]
  }
 ],
 "metadata": {
  "kernelspec": {
   "display_name": "Python 3 (ipykernel)",
   "language": "python",
   "name": "python3"
  },
  "language_info": {
   "codemirror_mode": {
    "name": "ipython",
    "version": 3
   },
   "file_extension": ".py",
   "mimetype": "text/x-python",
   "name": "python",
   "nbconvert_exporter": "python",
   "pygments_lexer": "ipython3",
   "version": "3.9.12"
  }
 },
 "nbformat": 4,
 "nbformat_minor": 5
}
